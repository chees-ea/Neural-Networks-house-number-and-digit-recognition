{
  "nbformat": 4,
  "nbformat_minor": 0,
  "metadata": {
    "accelerator": "TPU",
    "colab": {
      "name": "NN_Project_Learner_Notebook_SVHN.ipynb",
      "provenance": [],
      "collapsed_sections": [],
      "include_colab_link": true
    },
    "kernelspec": {
      "display_name": "Python 3",
      "language": "python",
      "name": "python3"
    },
    "language_info": {
      "codemirror_mode": {
        "name": "ipython",
        "version": 3
      },
      "file_extension": ".py",
      "mimetype": "text/x-python",
      "name": "python",
      "nbconvert_exporter": "python",
      "pygments_lexer": "ipython3",
      "version": "3.8.8"
    }
  },
  "cells": [
    {
      "cell_type": "markdown",
      "metadata": {
        "id": "view-in-github",
        "colab_type": "text"
      },
      "source": [
        "<a href=\"https://colab.research.google.com/github/chees-ea/Neural-Networks-house-number-and-digit-recognition/blob/main/NN_Project_Learner_Notebook_SVHN.ipynb\" target=\"_parent\"><img src=\"https://colab.research.google.com/assets/colab-badge.svg\" alt=\"Open In Colab\"/></a>"
      ]
    },
    {
      "cell_type": "markdown",
      "metadata": {
        "id": "Q91KqmCRu64D"
      },
      "source": [
        "# **Project - Artificial Neural Networks: Street View Housing Number Digit Recognition**\n",
        "\n",
        "\n",
        "--------------\n",
        "### **Context:** \n",
        "--------------\n",
        "\n",
        "One of the most interesting tasks in deep learning is to recognize objects in natural scenes. The ability to process visual information using machine learning algorithms can be very useful as demonstrated in various applications.\n",
        "\n",
        "The SVHN dataset contains over 600,000 labeled digits cropped from street level photos. It is one of the most popular image recognition datasets. It has been used in neural networks created by Google to improve map quality by automatically transcribing the address numbers from a patch of pixels. The transcribed number with a known street address helps pinpoint the location of the building it represents. \n",
        "\n",
        "----------------\n",
        "### **Objective:**\n",
        "----------------\n",
        "\n",
        "Build a feed forward neural network model that can identify the digits in the images. \n",
        "\n",
        "-------------\n",
        "### **Dataset**\n",
        "-------------\n",
        "Here, we will use a subset of the original data to save some computation time. The dataset is provided as a .h5 file. The basic preprocessing steps have been done."
      ]
    },
    {
      "cell_type": "markdown",
      "metadata": {
        "id": "8z2Z7-OAs8QG"
      },
      "source": [
        "## **Mount the drive**\n",
        "Let us start by mounting the drive and importing the necessary libraries."
      ]
    },
    {
      "cell_type": "code",
      "metadata": {
        "colab": {
          "base_uri": "https://localhost:8080/"
        },
        "id": "03lDyQUuef7z",
        "outputId": "92bf6c40-22ec-4b95-e804-2b580a884c43"
      },
      "source": [
        "from google.colab import drive\n",
        "drive.mount('/content/drive')"
      ],
      "execution_count": null,
      "outputs": [
        {
          "output_type": "stream",
          "name": "stdout",
          "text": [
            "Mounted at /content/drive\n"
          ]
        }
      ]
    },
    {
      "cell_type": "markdown",
      "metadata": {
        "id": "C8U3DUa3eNsT"
      },
      "source": [
        "## **Importing libraries**"
      ]
    },
    {
      "cell_type": "code",
      "metadata": {
        "id": "-dVzeuF3eQx1"
      },
      "source": [
        "import numpy as np\n",
        "import pandas as pd\n",
        "import matplotlib.pyplot as plt\n",
        "import seaborn as sns\n",
        "\n",
        "from sklearn.model_selection import train_test_split\n",
        "from sklearn.preprocessing import MinMaxScaler\n",
        "\n",
        "import tensorflow as tf\n",
        "from tensorflow.keras.models import Sequential\n",
        "from tensorflow.keras.layers import Dense, Dropout, Activation, BatchNormalization\n",
        "from tensorflow.keras.utils import to_categorical"
      ],
      "execution_count": null,
      "outputs": []
    },
    {
      "cell_type": "markdown",
      "metadata": {
        "id": "ucnevGLoyKf_"
      },
      "source": [
        "Let us check for the version of TensorFlow."
      ]
    },
    {
      "cell_type": "code",
      "metadata": {
        "colab": {
          "base_uri": "https://localhost:8080/"
        },
        "id": "W5as47YxyJVk",
        "outputId": "edf55a75-ecc3-4f05-c9b3-d7c2fc209969"
      },
      "source": [
        "print(tf.__version__)"
      ],
      "execution_count": null,
      "outputs": [
        {
          "output_type": "stream",
          "name": "stdout",
          "text": [
            "2.8.0\n"
          ]
        }
      ]
    },
    {
      "cell_type": "markdown",
      "metadata": {
        "id": "8lsux2ZwyTTR"
      },
      "source": [
        "## **Load the dataset**\n",
        "- Let us now load the dataset that is available as a .h5 file.\n",
        "- Split the data into train and the test dataset"
      ]
    },
    {
      "cell_type": "code",
      "metadata": {
        "id": "BApX9qgNsqV0",
        "scrolled": true
      },
      "source": [
        "import h5py\n",
        "\n",
        "# Open the file as read only\n",
        "# User can make changes in the path as required\n",
        "h5f = h5py.File('/content/drive/MyDrive/SVHN_single_grey1.h5', 'r')\n",
        "\n",
        "# Load the training and the test set\n",
        "X_train = h5f['X_train'][:]\n",
        "y_train = h5f['y_train'][:]\n",
        "X_test = h5f['X_test'][:]\n",
        "y_test = h5f['y_test'][:]\n",
        "\n",
        "\n",
        "# Close this file\n",
        "h5f.close()"
      ],
      "execution_count": null,
      "outputs": []
    },
    {
      "cell_type": "markdown",
      "metadata": {
        "id": "hVe0CYpUgj7w"
      },
      "source": [
        "Let's check the number of images in the training and testing data."
      ]
    },
    {
      "cell_type": "code",
      "metadata": {
        "colab": {
          "base_uri": "https://localhost:8080/"
        },
        "id": "y3lwKpOefkpA",
        "outputId": "f5851351-bc15-4038-9ae3-94625d934671"
      },
      "source": [
        "len(X_train), len(X_test)"
      ],
      "execution_count": null,
      "outputs": [
        {
          "output_type": "execute_result",
          "data": {
            "text/plain": [
              "(42000, 18000)"
            ]
          },
          "metadata": {},
          "execution_count": 5
        }
      ]
    },
    {
      "cell_type": "markdown",
      "metadata": {
        "id": "akTUOfLlgwoM"
      },
      "source": [
        "**Observations**\n",
        "- There are 42,000 images in the training data and 18,000 images in the testing data. "
      ]
    },
    {
      "cell_type": "markdown",
      "metadata": {
        "id": "kxODV6HKykuc"
      },
      "source": [
        "## **Visualizing images**\n",
        "- Use X_train to visualize the first 10 images\n",
        "- Use Y_train to print the first 10 labels"
      ]
    },
    {
      "cell_type": "code",
      "metadata": {
        "colab": {
          "base_uri": "https://localhost:8080/",
          "height": 96
        },
        "id": "Bvsc8ytHsqWD",
        "outputId": "6bf35bf4-d144-43e4-e2f2-69cf88a8b316"
      },
      "source": [
        "# visualizing the first 10 images in the dataset and their labels\n",
        "plt.figure(figsize=(10, 1))\n",
        "\n",
        "for i in range(10):\n",
        "    plt.subplot(1, 10, i+1)\n",
        "    plt.imshow(X_train[i], cmap=\"gray\")\n",
        "    plt.axis('off')\n",
        "\n",
        "plt.show()\n",
        "print('label for each of the above image: %s' % (y_train[0:10]))"
      ],
      "execution_count": null,
      "outputs": [
        {
          "output_type": "display_data",
          "data": {
            "image/png": "[encoded data removed]",
            "text/plain": [
              "<Figure size 720x72 with 10 Axes>"
            ]
          },
          "metadata": {
            "needs_background": "light"
          }
        },
        {
          "output_type": "stream",
          "name": "stdout",
          "text": [
            "label for each of the above image: [2 6 7 4 4 0 3 0 7 3]\n"
          ]
        }
      ]
    },
    {
      "cell_type": "markdown",
      "metadata": {
        "id": "kzoyeXHOy80N"
      },
      "source": [
        "## **Data preparation**\n",
        "\n",
        "- Print the first image in the train image and figure out the shape of the images\n",
        "- Reshape the train and the test dataset to flatten them. Figure out the required shape\n",
        "- Normalise the train and the test dataset by dividing by 255\n",
        "- Print the new shapes of the train and the test set\n",
        "- One-hot encode the target variable"
      ]
    },
    {
      "cell_type": "code",
      "metadata": {
        "colab": {
          "base_uri": "https://localhost:8080/"
        },
        "id": "NqndzQXng9rL",
        "outputId": "f890fc3e-ee18-4dc1-9010-1aca4782b380"
      },
      "source": [
        "# Shape of the images and the first image\n",
        "\n",
        "print(\"Shape:\", X_train[0].shape)\n",
        "print()\n",
        "print(\"First image:\\n\", X_train[0])"
      ],
      "execution_count": null,
      "outputs": [
        {
          "output_type": "stream",
          "name": "stdout",
          "text": [
            "Shape: (32, 32)\n",
            "\n",
            "First image:\n",
            " [[ 33.0704  30.2601  26.852  ...  71.4471  58.2204  42.9939]\n",
            " [ 25.2283  25.5533  29.9765 ... 113.0209 103.3639  84.2949]\n",
            " [ 26.2775  22.6137  40.4763 ... 113.3028 121.775  115.4228]\n",
            " ...\n",
            " [ 28.5502  36.212   45.0801 ...  24.1359  25.0927  26.0603]\n",
            " [ 38.4352  26.4733  23.2717 ...  28.1094  29.4683  30.0661]\n",
            " [ 50.2984  26.0773  24.0389 ...  49.6682  50.853   53.0377]]\n"
          ]
        }
      ]
    },
    {
      "cell_type": "code",
      "metadata": {
        "id": "D9YPwf9ysqWU"
      },
      "source": [
        "# Reshaping the dataset to flatten them. Remember that we are trying to reshape the 2D image data into a 1D array\n",
        "\n",
        "X_train = X_train.reshape(X_train.shape[0], 1024)\n",
        "X_test = X_test.reshape(X_test.shape[0], 1024)"
      ],
      "execution_count": null,
      "outputs": []
    },
    {
      "cell_type": "markdown",
      "metadata": {
        "id": "VxCu9DtrGzH6"
      },
      "source": [
        "**Normalize the train and test data**"
      ]
    },
    {
      "cell_type": "code",
      "metadata": {
        "id": "q_yUUTp_mUzB"
      },
      "source": [
        "# Normalize inputs from 0-255 to 0-1\n",
        "\n",
        "X_train = X_train/255\n",
        "X_test = X_test/255"
      ],
      "execution_count": null,
      "outputs": []
    },
    {
      "cell_type": "code",
      "metadata": {
        "colab": {
          "base_uri": "https://localhost:8080/"
        },
        "id": "t7FSqOpamWkH",
        "outputId": "32a3e1fd-6707-43e3-f5b7-c5d41d6b4fd0"
      },
      "source": [
        "# New shape \n",
        "\n",
        "print('Training set:', X_train.shape, y_train.shape)\n",
        "print('Test set:', X_test.shape, y_test.shape)"
      ],
      "execution_count": null,
      "outputs": [
        {
          "output_type": "stream",
          "name": "stdout",
          "text": [
            "Training set: (42000, 1024) (42000,)\n",
            "Test set: (18000, 1024) (18000,)\n"
          ]
        }
      ]
    },
    {
      "cell_type": "code",
      "metadata": {
        "colab": {
          "base_uri": "https://localhost:8080/"
        },
        "id": "zL0lYER4sqWw",
        "outputId": "3c1c874b-7bfd-4b4d-8736-be181e253b1f"
      },
      "source": [
        "# one hot encode output\n",
        "y_train = to_categorical(y_train)\n",
        "y_test = to_categorical(y_test)\n",
        "\n",
        "# no.of classes\n",
        "y_test"
      ],
      "execution_count": null,
      "outputs": [
        {
          "output_type": "execute_result",
          "data": {
            "text/plain": [
              "array([[0., 1., 0., ..., 0., 0., 0.],\n",
              "       [0., 0., 0., ..., 1., 0., 0.],\n",
              "       [0., 0., 1., ..., 0., 0., 0.],\n",
              "       ...,\n",
              "       [0., 0., 0., ..., 1., 0., 0.],\n",
              "       [0., 0., 0., ..., 0., 0., 1.],\n",
              "       [0., 0., 1., ..., 0., 0., 0.]], dtype=float32)"
            ]
          },
          "metadata": {},
          "execution_count": 11
        }
      ]
    },
    {
      "cell_type": "markdown",
      "metadata": {
        "id": "ViqPOTquCF76"
      },
      "source": [
        "**Observations**\n",
        "- Notice that each entry of y_test is a one-hot encoded vector instead of a single label."
      ]
    },
    {
      "cell_type": "markdown",
      "metadata": {
        "id": "yH-gVrzuByNA"
      },
      "source": [
        "## **Model Building**\n",
        "\n",
        "Now, we have done the data preprocessing, let's build an ANN model."
      ]
    },
    {
      "cell_type": "code",
      "metadata": {
        "id": "d9ZjN17XGzIA"
      },
      "source": [
        "#Fixing the seed for random number generators\n",
        "np.random.seed(42)\n",
        "import random\n",
        "random.seed(42)\n",
        "tf.random.set_seed(42)"
      ],
      "execution_count": null,
      "outputs": []
    },
    {
      "cell_type": "code",
      "source": [
        "np.shape(X_test)"
      ],
      "metadata": {
        "colab": {
          "base_uri": "https://localhost:8080/"
        },
        "id": "M3sx2i4ZRbYB",
        "outputId": "91232420-31ab-4242-b90d-517eb291ca6a"
      },
      "execution_count": null,
      "outputs": [
        {
          "output_type": "execute_result",
          "data": {
            "text/plain": [
              "(18000, 1024)"
            ]
          },
          "metadata": {},
          "execution_count": 13
        }
      ]
    },
    {
      "cell_type": "markdown",
      "metadata": {
        "id": "UJDUoaEj1d6e"
      },
      "source": [
        "### **Model Architecture**\n",
        "- Write a function that returns a sequential model with the following architecture\n",
        " - First hidden layer with **64 nodes and relu activation** and the input shape which is used above\n",
        " - Second hidden layer with **32 nodes and relu activation**\n",
        " - Output layer with **softmax activation and number of nodes equal to the number of classes**\n",
        " -Compile the model with the **categorical_crossentropy loss, adam optimizer (learning_rate = 0.001), and accuracy metric**. Do not fit the model here, just return the compiled model.\n",
        "- Call the function and store the model in a new variable \n",
        "- Print the summary of the model\n",
        "- Fit on the train data with a **validation split of 0.2, batch size = 128, verbose = 1, and 20 epochs**. Store the model building history to use later for visualization."
      ]
    },
    {
      "cell_type": "markdown",
      "metadata": {
        "id": "24NB3aVsGzIC"
      },
      "source": [
        "#### **Build and train a ANN model as per the above mentioned architecture**"
      ]
    },
    {
      "cell_type": "code",
      "source": [
        "np.shape(X_train)"
      ],
      "metadata": {
        "colab": {
          "base_uri": "https://localhost:8080/"
        },
        "id": "DwECdr96Ww9H",
        "outputId": "a893ee25-4463-4bf7-a0f5-16f76a2e62dc"
      },
      "execution_count": null,
      "outputs": [
        {
          "output_type": "execute_result",
          "data": {
            "text/plain": [
              "(42000, 1024)"
            ]
          },
          "metadata": {},
          "execution_count": 31
        }
      ]
    },
    {
      "cell_type": "markdown",
      "source": [
        ""
      ],
      "metadata": {
        "id": "ew022WvfWwrl"
      }
    },
    {
      "cell_type": "code",
      "metadata": {
        "id": "Cmi81Gr5sqW-"
      },
      "source": [
        "#Importing losses and optimizers modules\n",
        "from tensorflow.keras import losses\n",
        "from tensorflow.keras import optimizers\n",
        "\n",
        "\n",
        "#Define the function\n",
        "def nn_model_1():\n",
        "    model = Sequential() \n",
        "    #Add layers as per the architecture mentioned above in the same sequence\n",
        "    model.add(Dense(64, activation='relu'))\n",
        "    model.add(Dense(32, activation=\"relu\"))\n",
        "    model.add(Dense(10, activation='softmax'))\n",
        "\n",
        "    #declare adam optimizer with learning rate of 0.001 \n",
        "    adam = optimizers.Adam(learning_rate=0.001)\n",
        "    \n",
        "    #compile the model\n",
        "    model.compile(optimizer=adam, loss=\"categorical_crossentropy\", metrics=[\"accuracy\"])\n",
        "    \n",
        "    return model"
      ],
      "execution_count": null,
      "outputs": []
    },
    {
      "cell_type": "code",
      "metadata": {
        "id": "bGCUI_xsImnH"
      },
      "source": [
        "# Build the model\n",
        "model_1 = nn_model_1()"
      ],
      "execution_count": null,
      "outputs": []
    },
    {
      "cell_type": "code",
      "metadata": {
        "id": "ckJsLdmdQadZ",
        "colab": {
          "base_uri": "https://localhost:8080/"
        },
        "outputId": "f45631c8-c356-4764-eef9-94f14cadd3bc"
      },
      "source": [
        "#Print the summary\n",
        "model_1.summary()"
      ],
      "execution_count": null,
      "outputs": [
        {
          "output_type": "stream",
          "name": "stdout",
          "text": [
            "Model: \"sequential_4\"\n",
            "_________________________________________________________________\n",
            " Layer (type)                Output Shape              Param #   \n",
            "=================================================================\n",
            " dense_6 (Dense)             (None, 42000, 64)         65600     \n",
            "                                                                 \n",
            " dense_7 (Dense)             (None, 42000, 32)         2080      \n",
            "                                                                 \n",
            " dense_8 (Dense)             (None, 42000, 10)         330       \n",
            "                                                                 \n",
            "=================================================================\n",
            "Total params: 68,010\n",
            "Trainable params: 68,010\n",
            "Non-trainable params: 0\n",
            "_________________________________________________________________\n"
          ]
        }
      ]
    },
    {
      "cell_type": "code",
      "metadata": {
        "id": "3Fy3Dif_zcCk",
        "colab": {
          "base_uri": "https://localhost:8080/"
        },
        "outputId": "3b71445a-e2a3-44f1-d77e-58dea5ea0748"
      },
      "source": [
        "# Fit the model\n",
        "history_model_1 = model_1.fit(X_train, y_train, validation_split=0.2, verbose=1, epochs=20, batch_size=128)"
      ],
      "execution_count": null,
      "outputs": [
        {
          "output_type": "stream",
          "name": "stdout",
          "text": [
            "Epoch 1/20\n",
            "263/263 [==============================] - 2s 7ms/step - loss: 2.2834 - accuracy: 0.1175 - val_loss: 2.2354 - val_accuracy: 0.1118\n",
            "Epoch 2/20\n",
            "263/263 [==============================] - 2s 6ms/step - loss: 2.1276 - accuracy: 0.2163 - val_loss: 1.9692 - val_accuracy: 0.2969\n",
            "Epoch 3/20\n",
            "263/263 [==============================] - 1s 5ms/step - loss: 1.8240 - accuracy: 0.3601 - val_loss: 1.6892 - val_accuracy: 0.4279\n",
            "Epoch 4/20\n",
            "263/263 [==============================] - 2s 6ms/step - loss: 1.6198 - accuracy: 0.4496 - val_loss: 1.5478 - val_accuracy: 0.4870\n",
            "Epoch 5/20\n",
            "263/263 [==============================] - 2s 6ms/step - loss: 1.4929 - accuracy: 0.5085 - val_loss: 1.4273 - val_accuracy: 0.5383\n",
            "Epoch 6/20\n",
            "263/263 [==============================] - 1s 5ms/step - loss: 1.3881 - accuracy: 0.5582 - val_loss: 1.3328 - val_accuracy: 0.5806\n",
            "Epoch 7/20\n",
            "263/263 [==============================] - 2s 6ms/step - loss: 1.3156 - accuracy: 0.5839 - val_loss: 1.2774 - val_accuracy: 0.6019\n",
            "Epoch 8/20\n",
            "263/263 [==============================] - 2s 6ms/step - loss: 1.2560 - accuracy: 0.6059 - val_loss: 1.2300 - val_accuracy: 0.6165\n",
            "Epoch 9/20\n",
            "263/263 [==============================] - 2s 7ms/step - loss: 1.2113 - accuracy: 0.6214 - val_loss: 1.1911 - val_accuracy: 0.6325\n",
            "Epoch 10/20\n",
            "263/263 [==============================] - 2s 6ms/step - loss: 1.1803 - accuracy: 0.6358 - val_loss: 1.1626 - val_accuracy: 0.6450\n",
            "Epoch 11/20\n",
            "263/263 [==============================] - 2s 6ms/step - loss: 1.1513 - accuracy: 0.6432 - val_loss: 1.1414 - val_accuracy: 0.6536\n",
            "Epoch 12/20\n",
            "263/263 [==============================] - 2s 6ms/step - loss: 1.1275 - accuracy: 0.6550 - val_loss: 1.1414 - val_accuracy: 0.6531\n",
            "Epoch 13/20\n",
            "263/263 [==============================] - 1s 6ms/step - loss: 1.1036 - accuracy: 0.6625 - val_loss: 1.0975 - val_accuracy: 0.6669\n",
            "Epoch 14/20\n",
            "263/263 [==============================] - 2s 6ms/step - loss: 1.0948 - accuracy: 0.6687 - val_loss: 1.1060 - val_accuracy: 0.6598\n",
            "Epoch 15/20\n",
            "263/263 [==============================] - 1s 6ms/step - loss: 1.0719 - accuracy: 0.6747 - val_loss: 1.0718 - val_accuracy: 0.6769\n",
            "Epoch 16/20\n",
            "263/263 [==============================] - 1s 6ms/step - loss: 1.0526 - accuracy: 0.6827 - val_loss: 1.0930 - val_accuracy: 0.6645\n",
            "Epoch 17/20\n",
            "263/263 [==============================] - 1s 6ms/step - loss: 1.0429 - accuracy: 0.6840 - val_loss: 1.0504 - val_accuracy: 0.6827\n",
            "Epoch 18/20\n",
            "263/263 [==============================] - 1s 6ms/step - loss: 1.0268 - accuracy: 0.6938 - val_loss: 1.0231 - val_accuracy: 0.6962\n",
            "Epoch 19/20\n",
            "263/263 [==============================] - 2s 6ms/step - loss: 1.0165 - accuracy: 0.6948 - val_loss: 1.0225 - val_accuracy: 0.6932\n",
            "Epoch 20/20\n",
            "263/263 [==============================] - 2s 8ms/step - loss: 1.0033 - accuracy: 0.7005 - val_loss: 1.0162 - val_accuracy: 0.6970\n"
          ]
        }
      ]
    },
    {
      "cell_type": "markdown",
      "metadata": {
        "id": "tKOckG-KPyLg"
      },
      "source": [
        "### **Plotting the validation and training accuracies**"
      ]
    },
    {
      "cell_type": "markdown",
      "metadata": {
        "id": "CuKXZ3SmGzIG"
      },
      "source": [
        ""
      ]
    },
    {
      "cell_type": "code",
      "metadata": {
        "colab": {
          "base_uri": "https://localhost:8080/",
          "height": 497
        },
        "id": "lt77zgGMP4yw",
        "outputId": "0c8e182d-49ed-4cc3-deb6-792e1a8517fd"
      },
      "source": [
        "# plotting the accuracies\n",
        "\n",
        "dict_hist = history_model_1.history\n",
        "list_ep = [i for i in range(1,21)]\n",
        "\n",
        "plt.figure(figsize = (8,8))\n",
        "plt.plot(list_ep,dict_hist['accuracy'],ls = '--', label = 'accuracy')\n",
        "plt.plot(list_ep,dict_hist['val_accuracy'],ls = '--', label = 'val_accuracy')\n",
        "plt.ylabel('Accuracy')\n",
        "plt.xlabel('Epochs')\n",
        "plt.legend()\n",
        "plt.show()"
      ],
      "execution_count": null,
      "outputs": [
        {
          "output_type": "display_data",
          "data": {
            "image/png": "[encoded data removed]",
            "text/plain": [
              "<Figure size 576x576 with 1 Axes>"
            ]
          },
          "metadata": {
            "needs_background": "light"
          }
        }
      ]
    },
    {
      "cell_type": "markdown",
      "metadata": {
        "id": "pGBbQpLONX7k"
      },
      "source": [
        "**Observations:**\n",
        "- The model seems to perform well right off the bat, the curve increases steadily and then plateaus with no large dips. \n",
        "- There are some dips around 12.5 and 16 so the model could use some Batch normalization to help increase the accuracy of the validation data. \n"
      ]
    },
    {
      "cell_type": "markdown",
      "metadata": {
        "id": "z0qgLMBZm5-K"
      },
      "source": [
        "\n",
        "Let's build one more model with higher complexity and see if we can improve the performance of the model. \n",
        "\n",
        "First, we need to clear the previous model's history from the keras backend. Also, let's fix the seed again after clearing the backend."
      ]
    },
    {
      "cell_type": "code",
      "metadata": {
        "id": "y98BpLxsok_H"
      },
      "source": [
        "#Clearing backend\n",
        "from tensorflow.keras import backend\n",
        "backend.clear_session()"
      ],
      "execution_count": null,
      "outputs": []
    },
    {
      "cell_type": "code",
      "metadata": {
        "id": "HbKi93HTolGW"
      },
      "source": [
        "#Fixing the seed for random number generators\n",
        "np.random.seed(42)\n",
        "import random\n",
        "random.seed(42)\n",
        "tf.random.set_seed(42)"
      ],
      "execution_count": null,
      "outputs": []
    },
    {
      "cell_type": "markdown",
      "metadata": {
        "id": "lT6o3TIKuCtk"
      },
      "source": [
        "### **Second Model Architecture**\n",
        "- Write a function that returns a sequential model with the following architecture\n",
        " - First hidden layer with **256 nodes and relu activation**\n",
        " - Second hidden layer with **128 nodes and relu activation**\n",
        " - Add the **Dropout layer with rate equal to 0.2**\n",
        " - Third hidden layer with **64 nodes and relu activation**\n",
        " - Fourth hidden layer with **64 nodes and relu activation**\n",
        " - Fifth hidden layer with **32 nodes and relu activation**\n",
        " - Add the **BatchNormalization layer**\n",
        " - Output layer with **softmax activation and number of nodes equal to the number of classes**\n",
        " -Compile the model with the **categorical_crossentropy loss, adam optimizer (learning_rate = 0.0005), and accuracy metric**. Do not fit the model here, just return the compiled model.\n",
        "- Call the function and store the model in a new variable \n",
        "- Print the summary of the model\n",
        "- Fit on the train data with a **validation split of 0.2, batch size = 128, verbose = 1, and 30 epochs**. Store the model building history to use later for visualization."
      ]
    },
    {
      "cell_type": "markdown",
      "metadata": {
        "id": "4dV32YjAGzIR"
      },
      "source": [
        "#### **Build and train the new ANN model as per the above mentioned architecture**"
      ]
    },
    {
      "cell_type": "code",
      "metadata": {
        "id": "EEPYLFIPnSDP"
      },
      "source": [
        "#Importing losses and optimizers modules\n",
        "from tensorflow.keras import losses\n",
        "from tensorflow.keras import optimizers\n",
        "\n",
        "#Define the function\n",
        "def nn_model_2():\n",
        "    #Add layers as per the architecture mentioned above in the same sequence\n",
        "    model = Sequential() \n",
        "    #Add layers as per the architecture mentioned above in the same sequence\n",
        "    model.add(Dense(256, activation='relu', input_shape=(1024,)))\n",
        "    model.add(Dense(128, activation=\"relu\"))\n",
        "    model.add(Dropout(rate=0.2))\n",
        "    model.add(Dense(64, activation='relu'))\n",
        "    model.add(Dense(64, activation='relu'))\n",
        "    model.add(Dense(32, activation='relu'))\n",
        "    model.add(BatchNormalization())\n",
        "    model.add(Dense(10, activation='softmax'))\n",
        "\n",
        "    #declare adam optimizer with learning rate of 0.005\n",
        "    adam = optimizers.Adam(learning_rate=0.005)\n",
        "    \n",
        "    #compile the model\n",
        "    model.compile(optimizer=adam, loss=\"categorical_crossentropy\", metrics=[\"accuracy\"])\n",
        "\n",
        "    return model"
      ],
      "execution_count": null,
      "outputs": []
    },
    {
      "cell_type": "code",
      "metadata": {
        "id": "AKjDY4plnSFl"
      },
      "source": [
        "# Build the model\n",
        "model_2 = nn_model_2()"
      ],
      "execution_count": null,
      "outputs": []
    },
    {
      "cell_type": "code",
      "metadata": {
        "id": "gz_6SVrU2swZ",
        "colab": {
          "base_uri": "https://localhost:8080/"
        },
        "outputId": "86109e42-9abf-4183-f807-60b64eae3912"
      },
      "source": [
        "#Print the model summary\n",
        "model_2.summary()"
      ],
      "execution_count": null,
      "outputs": [
        {
          "output_type": "stream",
          "name": "stdout",
          "text": [
            "Model: \"sequential_6\"\n",
            "_________________________________________________________________\n",
            " Layer (type)                Output Shape              Param #   \n",
            "=================================================================\n",
            " dense_36 (Dense)            (None, 256)               262400    \n",
            "                                                                 \n",
            " dense_37 (Dense)            (None, 128)               32896     \n",
            "                                                                 \n",
            " dropout_6 (Dropout)         (None, 128)               0         \n",
            "                                                                 \n",
            " dense_38 (Dense)            (None, 64)                8256      \n",
            "                                                                 \n",
            " dense_39 (Dense)            (None, 64)                4160      \n",
            "                                                                 \n",
            " dense_40 (Dense)            (None, 32)                2080      \n",
            "                                                                 \n",
            " batch_normalization_5 (Batc  (None, 32)               128       \n",
            " hNormalization)                                                 \n",
            "                                                                 \n",
            " dense_41 (Dense)            (None, 10)                330       \n",
            "                                                                 \n",
            "=================================================================\n",
            "Total params: 310,250\n",
            "Trainable params: 310,186\n",
            "Non-trainable params: 64\n",
            "_________________________________________________________________\n"
          ]
        }
      ]
    },
    {
      "cell_type": "code",
      "metadata": {
        "id": "IQ0Sc4R-y-uu",
        "colab": {
          "base_uri": "https://localhost:8080/"
        },
        "outputId": "b5ddd44f-35d9-4222-d75a-8f3eb7c43b7d"
      },
      "source": [
        "# Fit the model\n",
        "history_model_2 = model_2.fit(X_train, y_train, validation_split=0.2, verbose=1, epochs=30, batch_size=128)"
      ],
      "execution_count": null,
      "outputs": [
        {
          "output_type": "stream",
          "name": "stdout",
          "text": [
            "Epoch 1/30\n",
            "263/263 [==============================] - 5s 14ms/step - loss: 2.3190 - accuracy: 0.1000 - val_loss: 2.3342 - val_accuracy: 0.0949\n",
            "Epoch 2/30\n",
            "263/263 [==============================] - 3s 11ms/step - loss: 2.3076 - accuracy: 0.1030 - val_loss: 2.3144 - val_accuracy: 0.1027\n",
            "Epoch 3/30\n",
            "263/263 [==============================] - 3s 11ms/step - loss: 2.2629 - accuracy: 0.1216 - val_loss: 2.2406 - val_accuracy: 0.1526\n",
            "Epoch 4/30\n",
            "263/263 [==============================] - 3s 12ms/step - loss: 2.0499 - accuracy: 0.1978 - val_loss: 1.9399 - val_accuracy: 0.2567\n",
            "Epoch 5/30\n",
            "263/263 [==============================] - 3s 12ms/step - loss: 1.8819 - accuracy: 0.2792 - val_loss: 1.8023 - val_accuracy: 0.3033\n",
            "Epoch 6/30\n",
            "263/263 [==============================] - 3s 13ms/step - loss: 1.6680 - accuracy: 0.3988 - val_loss: 1.5365 - val_accuracy: 0.4770\n",
            "Epoch 7/30\n",
            "263/263 [==============================] - 3s 12ms/step - loss: 1.4701 - accuracy: 0.4974 - val_loss: 1.5054 - val_accuracy: 0.4899\n",
            "Epoch 8/30\n",
            "263/263 [==============================] - 3s 11ms/step - loss: 1.4063 - accuracy: 0.5243 - val_loss: 1.3330 - val_accuracy: 0.5493\n",
            "Epoch 9/30\n",
            "263/263 [==============================] - 3s 11ms/step - loss: 1.3455 - accuracy: 0.5470 - val_loss: 1.3325 - val_accuracy: 0.5492\n",
            "Epoch 10/30\n",
            "263/263 [==============================] - 3s 11ms/step - loss: 1.3132 - accuracy: 0.5603 - val_loss: 1.2411 - val_accuracy: 0.5893\n",
            "Epoch 11/30\n",
            "263/263 [==============================] - 3s 13ms/step - loss: 1.2854 - accuracy: 0.5719 - val_loss: 1.2342 - val_accuracy: 0.5869\n",
            "Epoch 12/30\n",
            "263/263 [==============================] - 3s 12ms/step - loss: 1.2656 - accuracy: 0.5805 - val_loss: 1.1966 - val_accuracy: 0.6049\n",
            "Epoch 13/30\n",
            "263/263 [==============================] - 3s 11ms/step - loss: 1.2351 - accuracy: 0.5924 - val_loss: 1.2165 - val_accuracy: 0.6052\n",
            "Epoch 14/30\n",
            "263/263 [==============================] - 3s 12ms/step - loss: 1.2291 - accuracy: 0.5979 - val_loss: 1.1417 - val_accuracy: 0.6300\n",
            "Epoch 15/30\n",
            "263/263 [==============================] - 3s 11ms/step - loss: 1.1974 - accuracy: 0.6090 - val_loss: 1.1518 - val_accuracy: 0.6276\n",
            "Epoch 16/30\n",
            "263/263 [==============================] - 3s 12ms/step - loss: 1.1906 - accuracy: 0.6131 - val_loss: 1.1430 - val_accuracy: 0.6268\n",
            "Epoch 17/30\n",
            "263/263 [==============================] - 3s 13ms/step - loss: 1.1739 - accuracy: 0.6217 - val_loss: 1.1081 - val_accuracy: 0.6417\n",
            "Epoch 18/30\n",
            "263/263 [==============================] - 3s 11ms/step - loss: 1.1605 - accuracy: 0.6243 - val_loss: 1.1545 - val_accuracy: 0.6242\n",
            "Epoch 19/30\n",
            "263/263 [==============================] - 3s 11ms/step - loss: 1.1450 - accuracy: 0.6321 - val_loss: 1.1041 - val_accuracy: 0.6375\n",
            "Epoch 20/30\n",
            "263/263 [==============================] - 3s 11ms/step - loss: 1.1366 - accuracy: 0.6333 - val_loss: 1.0767 - val_accuracy: 0.6523\n",
            "Epoch 21/30\n",
            "263/263 [==============================] - 3s 11ms/step - loss: 1.1299 - accuracy: 0.6349 - val_loss: 1.1081 - val_accuracy: 0.6443\n",
            "Epoch 22/30\n",
            "263/263 [==============================] - 3s 13ms/step - loss: 1.1218 - accuracy: 0.6388 - val_loss: 1.0858 - val_accuracy: 0.6468\n",
            "Epoch 23/30\n",
            "263/263 [==============================] - 3s 11ms/step - loss: 1.1129 - accuracy: 0.6436 - val_loss: 1.1065 - val_accuracy: 0.6448\n",
            "Epoch 24/30\n",
            "263/263 [==============================] - 3s 11ms/step - loss: 1.1131 - accuracy: 0.6431 - val_loss: 1.1303 - val_accuracy: 0.6371\n",
            "Epoch 25/30\n",
            "263/263 [==============================] - 3s 12ms/step - loss: 1.1019 - accuracy: 0.6478 - val_loss: 1.0547 - val_accuracy: 0.6605\n",
            "Epoch 26/30\n",
            "263/263 [==============================] - 4s 14ms/step - loss: 1.0885 - accuracy: 0.6522 - val_loss: 1.0753 - val_accuracy: 0.6518\n",
            "Epoch 27/30\n",
            "263/263 [==============================] - 3s 12ms/step - loss: 1.0825 - accuracy: 0.6522 - val_loss: 1.0768 - val_accuracy: 0.6538\n",
            "Epoch 28/30\n",
            "263/263 [==============================] - 3s 12ms/step - loss: 1.0771 - accuracy: 0.6557 - val_loss: 1.0322 - val_accuracy: 0.6690\n",
            "Epoch 29/30\n",
            "263/263 [==============================] - 3s 11ms/step - loss: 1.0737 - accuracy: 0.6561 - val_loss: 1.0241 - val_accuracy: 0.6743\n",
            "Epoch 30/30\n",
            "263/263 [==============================] - 3s 12ms/step - loss: 1.0563 - accuracy: 0.6648 - val_loss: 1.0154 - val_accuracy: 0.6813\n"
          ]
        }
      ]
    },
    {
      "cell_type": "markdown",
      "metadata": {
        "id": "qtE4DFxdGzIT"
      },
      "source": [
        "### **Plotting the validation and training accuracies**"
      ]
    },
    {
      "cell_type": "markdown",
      "metadata": {
        "id": "O1td6Nd4GzIU"
      },
      "source": [
        "#### **Write your observations on the below plot**"
      ]
    },
    {
      "cell_type": "code",
      "metadata": {
        "colab": {
          "base_uri": "https://localhost:8080/",
          "height": 497
        },
        "id": "01ig6BrF1KVy",
        "outputId": "e15d2aa6-a2ad-45b5-a66d-b608b154453d"
      },
      "source": [
        "# plotting the accuracies\n",
        "\n",
        "dict_hist = history_model_2.history\n",
        "list_ep = [i for i in range(1,31)]\n",
        "\n",
        "plt.figure(figsize = (8,8))\n",
        "plt.plot(list_ep,dict_hist['accuracy'],ls = '--', label = 'accuracy')\n",
        "plt.plot(list_ep,dict_hist['val_accuracy'],ls = '--', label = 'val_accuracy')\n",
        "plt.ylabel('Accuracy')\n",
        "plt.xlabel('Epochs')\n",
        "plt.legend()\n",
        "plt.show()"
      ],
      "execution_count": null,
      "outputs": [
        {
          "output_type": "display_data",
          "data": {
            "image/png": "[encoded data removed]",
            "text/plain": [
              "<Figure size 576x576 with 1 Axes>"
            ]
          },
          "metadata": {
            "needs_background": "light"
          }
        }
      ]
    },
    {
      "cell_type": "markdown",
      "metadata": {
        "id": "VPW1LlD61RDn"
      },
      "source": [
        "**Observations:**\n",
        "- The overall accuracy of the model looks slightly better than the previous model, but the validation accuracy went down and now has more dips than previous."
      ]
    },
    {
      "cell_type": "markdown",
      "metadata": {
        "id": "8kuXx9Bvu00f"
      },
      "source": [
        "## **Predictions on the test data**\n",
        "\n",
        "- Make predictions on the test set using the second model\n",
        "- Print the obtained results using the classification report and the confusion matrix\n",
        "- Final observations from the obtained results"
      ]
    },
    {
      "cell_type": "code",
      "metadata": {
        "id": "xbWMEtTj5Ad0"
      },
      "source": [
        "test_pred = model_2.predict(X_test)\n",
        "\n",
        "test_pred = np.argmax(test_pred, axis=-1)"
      ],
      "execution_count": null,
      "outputs": []
    },
    {
      "cell_type": "markdown",
      "metadata": {
        "id": "i3li8Ib08yts"
      },
      "source": [
        "**Note:** Earlier, we noticed that each entry of the test data is a one-hot encoded vector but to print the classification report and confusion matrix, we must convert each entry of y_test to a single label."
      ]
    },
    {
      "cell_type": "code",
      "metadata": {
        "id": "NByu7uAQ8x9P"
      },
      "source": [
        "#Converting each entry to single label from one-hot encoded vector\n",
        "y_test = np.argmax(y_test, axis=-1)"
      ],
      "execution_count": null,
      "outputs": []
    },
    {
      "cell_type": "markdown",
      "metadata": {
        "id": "JVxGB0qaGzIY"
      },
      "source": [
        "#### **Print the classification report and the confusion matrix for the test predictions. Write your observations on the final results**"
      ]
    },
    {
      "cell_type": "code",
      "metadata": {
        "id": "xRddeJ-3EHT1",
        "colab": {
          "base_uri": "https://localhost:8080/",
          "height": 637
        },
        "outputId": "7c473cfa-67a0-4e86-844c-9775b9482a22"
      },
      "source": [
        "#importing required functions\n",
        "from sklearn.metrics import classification_report\n",
        "from sklearn.metrics import confusion_matrix\n",
        "\n",
        "#Printing the classification report\n",
        "print(classification_report(y_test, test_pred))\n",
        "\n",
        "#Plotting the heatmap using confusion matrix\n",
        "cm = confusion_matrix(y_test, test_pred) #Write the code for creating confusion matrix using actual labels and predicted labels\n",
        "\n",
        "plt.figure(figsize=(8,5))\n",
        "sns.heatmap(cm, annot=True,  fmt='.0f')\n",
        "plt.ylabel('Actual')\n",
        "plt.xlabel('Predicted')\n",
        "plt.show()"
      ],
      "execution_count": null,
      "outputs": [
        {
          "output_type": "stream",
          "name": "stdout",
          "text": [
            "              precision    recall  f1-score   support\n",
            "\n",
            "           0       0.71      0.68      0.70      1814\n",
            "           1       0.55      0.79      0.65      1828\n",
            "           2       0.72      0.70      0.71      1803\n",
            "           3       0.66      0.63      0.65      1719\n",
            "           4       0.70      0.79      0.74      1812\n",
            "           5       0.67      0.60      0.63      1768\n",
            "           6       0.72      0.64      0.68      1832\n",
            "           7       0.72      0.76      0.74      1808\n",
            "           8       0.69      0.54      0.60      1812\n",
            "           9       0.66      0.64      0.65      1804\n",
            "\n",
            "    accuracy                           0.68     18000\n",
            "   macro avg       0.68      0.68      0.68     18000\n",
            "weighted avg       0.68      0.68      0.68     18000\n",
            "\n"
          ]
        },
        {
          "output_type": "display_data",
          "data": {
            "image/png": "[encoded data removed]",
            "text/plain": [
              "<Figure size 576x360 with 2 Axes>"
            ]
          },
          "metadata": {
            "needs_background": "light"
          }
        }
      ]
    },
    {
      "cell_type": "markdown",
      "metadata": {
        "id": "DjErl4GA2u9s"
      },
      "source": [
        "#### **Observations:**\n",
        "- The classification report shows the classification metrics - precision, recall, f1-score for each class:\n",
        "We can see that 4 and 7 have the highest f1-score of 74%. Even such a simple model can identify these objects quite appropriately.\n",
        "- The number 1 has the lowest recall. The model is not able to identify the 1. The confusion matrix shows that the model has predicted shirts as 0,4, 3 which does not make much sense as these items do not have similar looks.\n",
        "-Let's try changing the learning rate and train the model for more epochs and see if the model can identify even subtle differences in different objects."
      ]
    }
  ]
}