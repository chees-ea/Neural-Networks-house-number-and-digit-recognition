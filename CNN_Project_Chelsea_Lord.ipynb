{
  "cells": [
    {
      "cell_type": "markdown",
      "metadata": {
        "id": "view-in-github",
        "colab_type": "text"
      },
      "source": [
        "<a href=\"https://colab.research.google.com/github/chees-ea/Neural-Networks-house-number-and-digit-recognition/blob/main/CNN_Project_Chelsea_Lord.ipynb\" target=\"_parent\"><img src=\"https://colab.research.google.com/assets/colab-badge.svg\" alt=\"Open In Colab\"/></a>"
      ]
    },
    {
      "cell_type": "markdown",
      "metadata": {
        "id": "Q91KqmCRu64D"
      },
      "source": [
        "# **Project - Convolutional Neural Networks: Street View Housing Number Digit Recognition**\n",
        "\n",
        "# Marks: 30\n",
        "\n",
        "Welcome to the project on classification using Convolutional Neural Networks. We will continue to work with the Street View Housing Numbers (SVHN) image dataset for this project.\n",
        "\n",
        "--------------\n",
        "### **Context:** \n",
        "--------------\n",
        "\n",
        "One of the most interesting tasks in deep learning is to recognize objects in natural scenes. The ability to process visual information using machine learning algorithms can be very useful as demonstrated in various applications.\n",
        "\n",
        "The SVHN dataset contains over 600,000 labeled digits cropped from street-level photos. It is one of the most popular image recognition datasets. It has been used in neural networks created by Google to improve map quality by automatically transcribing the address numbers from a patch of pixels. The transcribed number with a known street address helps pinpoint the location of the building it represents. \n",
        "\n",
        "----------------\n",
        "### **Objective:**\n",
        "----------------\n",
        "\n",
        "Build a CNN model that can identify the digits in the images.\n",
        "\n",
        "-------------\n",
        "### **Dataset**\n",
        "-------------\n",
        "Here, we will use a subset of the original data to save some computation time. The dataset is provided as a .h5 file. The basic preprocessing steps have been done."
      ]
    },
    {
      "cell_type": "markdown",
      "metadata": {
        "id": "8z2Z7-OAs8QG"
      },
      "source": [
        "## **Mount the drive**\n",
        "Let us start by mounting the drive and importing the necessary libraries."
      ]
    },
    {
      "cell_type": "code",
      "execution_count": 2,
      "metadata": {
        "colab": {
          "base_uri": "https://localhost:8080/"
        },
        "id": "03lDyQUuef7z",
        "outputId": "625a0374-e587-48af-c876-d5ff78eec1e8"
      },
      "outputs": [
        {
          "output_type": "stream",
          "name": "stdout",
          "text": [
            "Drive already mounted at /content/drive; to attempt to forcibly remount, call drive.mount(\"/content/drive\", force_remount=True).\n"
          ]
        }
      ],
      "source": [
        "from google.colab import drive\n",
        "drive.mount('/content/drive')"
      ]
    },
    {
      "cell_type": "markdown",
      "metadata": {
        "id": "C8U3DUa3eNsT"
      },
      "source": [
        "## **Importing libraries**"
      ]
    },
    {
      "cell_type": "code",
      "execution_count": 16,
      "metadata": {
        "id": "-dVzeuF3eQx1"
      },
      "outputs": [],
      "source": [
        "import numpy as np\n",
        "import pandas as pd\n",
        "import matplotlib.pyplot as plt\n",
        "import seaborn as sns\n",
        "\n",
        "from sklearn.model_selection import train_test_split\n",
        "from sklearn.preprocessing import MinMaxScaler\n",
        "\n",
        "import tensorflow as tf\n",
        "from tensorflow.keras.models import Sequential\n",
        "from tensorflow.keras.layers import Dense, Conv2D, MaxPool2D, BatchNormalization, Dropout, Flatten, LeakyReLU\n",
        "from tensorflow.keras.utils import to_categorical"
      ]
    },
    {
      "cell_type": "markdown",
      "metadata": {
        "id": "ucnevGLoyKf_"
      },
      "source": [
        "Let us check for the version of TensorFlow."
      ]
    },
    {
      "cell_type": "code",
      "execution_count": 4,
      "metadata": {
        "colab": {
          "base_uri": "https://localhost:8080/"
        },
        "id": "W5as47YxyJVk",
        "outputId": "7ff86e7d-fb35-42e1-8c6a-70a782609841"
      },
      "outputs": [
        {
          "output_type": "stream",
          "name": "stdout",
          "text": [
            "2.8.0\n"
          ]
        }
      ],
      "source": [
        "print(tf.__version__)"
      ]
    },
    {
      "cell_type": "markdown",
      "metadata": {
        "id": "8lsux2ZwyTTR"
      },
      "source": [
        "## **Load the dataset**\n",
        "- Let us now load the dataset that is available as a .h5 file.\n",
        "- Split the data into train and the test dataset"
      ]
    },
    {
      "cell_type": "code",
      "execution_count": 5,
      "metadata": {
        "id": "BApX9qgNsqV0",
        "scrolled": true
      },
      "outputs": [],
      "source": [
        "import h5py\n",
        "\n",
        "# Open the file as read only\n",
        "# User can make changes in the path as required\n",
        "h5f = h5py.File('/content/drive/MyDrive/SVHN_single_grey1.h5', 'r')\n",
        "\n",
        "# Load the training and the test set\n",
        "X_train = h5f['X_train'][:]\n",
        "y_train = h5f['y_train'][:]\n",
        "X_test = h5f['X_test'][:]\n",
        "y_test = h5f['y_test'][:]\n",
        "\n",
        "\n",
        "# Close this file\n",
        "h5f.close()"
      ]
    },
    {
      "cell_type": "markdown",
      "metadata": {
        "id": "hVe0CYpUgj7w"
      },
      "source": [
        "Let's check the number of images in the training and testing data."
      ]
    },
    {
      "cell_type": "code",
      "execution_count": 6,
      "metadata": {
        "colab": {
          "base_uri": "https://localhost:8080/"
        },
        "id": "y3lwKpOefkpA",
        "outputId": "bb6605c0-0b77-433b-b452-b28bc841ce31"
      },
      "outputs": [
        {
          "output_type": "execute_result",
          "data": {
            "text/plain": [
              "(42000, 18000)"
            ]
          },
          "metadata": {},
          "execution_count": 6
        }
      ],
      "source": [
        "len(X_train), len(X_test)"
      ]
    },
    {
      "cell_type": "markdown",
      "metadata": {
        "id": "akTUOfLlgwoM"
      },
      "source": [
        "**Observations**\n",
        "- There are 42,000 images in the training data and 18,000 images in the testing data. "
      ]
    },
    {
      "cell_type": "markdown",
      "metadata": {
        "id": "kxODV6HKykuc"
      },
      "source": [
        "## **Visualizing images**\n",
        "- Use X_train to visualize the first 10 images\n",
        "- Use Y_train to print the first 10 labels"
      ]
    },
    {
      "cell_type": "markdown",
      "metadata": {
        "id": "Rn5IZYv-e2TC"
      },
      "source": [
        "#### **Question 1: Complete the below code to visualize the first 10 images from the training data (1 Mark)**"
      ]
    },
    {
      "cell_type": "code",
      "execution_count": 7,
      "metadata": {
        "colab": {
          "base_uri": "https://localhost:8080/",
          "height": 96
        },
        "id": "Bvsc8ytHsqWD",
        "outputId": "47d795e1-574f-403a-eff8-36fb37d91dae"
      },
      "outputs": [
        {
          "output_type": "display_data",
          "data": {
            "image/png": "[encoded data removed]",
            "text/plain": [
              "<Figure size 720x72 with 10 Axes>"
            ]
          },
          "metadata": {
            "needs_background": "light"
          }
        },
        {
          "output_type": "stream",
          "name": "stdout",
          "text": [
            "label for each of the above image: [2 6 7 4 4 0 3 0 7 3]\n"
          ]
        }
      ],
      "source": [
        "# visualizing the first 10 images in the dataset and their labels\n",
        "plt.figure(figsize=(10, 1))\n",
        "\n",
        "for i in range(10):\n",
        "    plt.subplot(1, 10, i+1)\n",
        "    plt.imshow(X_train[i], cmap=\"gray\") # write the function to visualize images\n",
        "    plt.axis('off')\n",
        "\n",
        "plt.show()\n",
        "print('label for each of the above image: %s' % (y_train[0:10]))"
      ]
    },
    {
      "cell_type": "markdown",
      "metadata": {
        "id": "kzoyeXHOy80N"
      },
      "source": [
        "## **Data Preparation**\n",
        "\n",
        "- Print the first image in the train image and figure out the shape of the images\n",
        "- Reshape the train and the test dataset to make them fit the first convolutional operation that we will create later. Figure out the required shape\n",
        "- Normalize the train and the test dataset by dividing by 255\n",
        "- Print the new shapes of the train and the test set\n",
        "- One-hot encode the target variable"
      ]
    },
    {
      "cell_type": "code",
      "execution_count": 8,
      "metadata": {
        "colab": {
          "base_uri": "https://localhost:8080/"
        },
        "id": "NqndzQXng9rL",
        "outputId": "6836d3e9-2467-4aa1-df26-a28760e1def8"
      },
      "outputs": [
        {
          "output_type": "stream",
          "name": "stdout",
          "text": [
            "Shape: (32, 32)\n",
            "\n",
            "First image:\n",
            " [[ 33.0704  30.2601  26.852  ...  71.4471  58.2204  42.9939]\n",
            " [ 25.2283  25.5533  29.9765 ... 113.0209 103.3639  84.2949]\n",
            " [ 26.2775  22.6137  40.4763 ... 113.3028 121.775  115.4228]\n",
            " ...\n",
            " [ 28.5502  36.212   45.0801 ...  24.1359  25.0927  26.0603]\n",
            " [ 38.4352  26.4733  23.2717 ...  28.1094  29.4683  30.0661]\n",
            " [ 50.2984  26.0773  24.0389 ...  49.6682  50.853   53.0377]]\n"
          ]
        }
      ],
      "source": [
        "# Shape of the images and the first image\n",
        "\n",
        "print(\"Shape:\", X_train[0].shape)\n",
        "print()\n",
        "print(\"First image:\\n\", X_train[0])"
      ]
    },
    {
      "cell_type": "code",
      "execution_count": 9,
      "metadata": {
        "id": "D9YPwf9ysqWU"
      },
      "outputs": [],
      "source": [
        "# Reshaping the dataset to flatten them. Remember that we always have to give a 4D array as input to CNNs\n",
        "\n",
        "X_train = X_train.reshape(X_train.shape[0], 32,32,1)\n",
        "X_test = X_test.reshape(X_test.shape[0], 32,32,1)"
      ]
    },
    {
      "cell_type": "code",
      "execution_count": 10,
      "metadata": {
        "id": "q_yUUTp_mUzB"
      },
      "outputs": [],
      "source": [
        "# Normalize inputs from 0-255 to 0-1\n",
        "\n",
        "X_train = X_train / 255.0\n",
        "X_test = X_test / 255.0"
      ]
    },
    {
      "cell_type": "code",
      "execution_count": 11,
      "metadata": {
        "colab": {
          "base_uri": "https://localhost:8080/"
        },
        "id": "t7FSqOpamWkH",
        "outputId": "920a682a-c47b-4866-effa-a48e3a382d4f"
      },
      "outputs": [
        {
          "output_type": "stream",
          "name": "stdout",
          "text": [
            "Training set: (42000, 32, 32, 1) (42000,)\n",
            "Test set: (18000, 32, 32, 1) (18000,)\n"
          ]
        }
      ],
      "source": [
        "# New shape \n",
        "\n",
        "print('Training set:', X_train.shape, y_train.shape)\n",
        "print('Test set:', X_test.shape, y_test.shape)"
      ]
    },
    {
      "cell_type": "markdown",
      "metadata": {
        "id": "YP92jacue2TE"
      },
      "source": [
        "#### **Question 2: One-hot encode the labels in the target variable y_train and y_test (2 Marks)**"
      ]
    },
    {
      "cell_type": "code",
      "execution_count": 12,
      "metadata": {
        "colab": {
          "base_uri": "https://localhost:8080/"
        },
        "id": "zL0lYER4sqWw",
        "outputId": "43458d06-58a1-4d2d-8180-ce267e82c471"
      },
      "outputs": [
        {
          "output_type": "execute_result",
          "data": {
            "text/plain": [
              "array([[0., 1., 0., ..., 0., 0., 0.],\n",
              "       [0., 0., 0., ..., 1., 0., 0.],\n",
              "       [0., 0., 1., ..., 0., 0., 0.],\n",
              "       ...,\n",
              "       [0., 0., 0., ..., 1., 0., 0.],\n",
              "       [0., 0., 0., ..., 0., 0., 1.],\n",
              "       [0., 0., 1., ..., 0., 0., 0.]], dtype=float32)"
            ]
          },
          "metadata": {},
          "execution_count": 12
        }
      ],
      "source": [
        "#Write the function and appropriate variable name to one-hot encode the output\n",
        "\n",
        "y_train = tf.keras.utils.to_categorical(y_train)\n",
        "y_test = tf.keras.utils.to_categorical(y_test)\n",
        "\n",
        "#test labels\n",
        "y_test"
      ]
    },
    {
      "cell_type": "markdown",
      "metadata": {
        "id": "ViqPOTquCF76"
      },
      "source": [
        "- Notice that each entry of y_test is a one-hot encoded vector instead of a single label."
      ]
    },
    {
      "cell_type": "markdown",
      "metadata": {
        "id": "yH-gVrzuByNA"
      },
      "source": [
        "## **Model Building**\n",
        "\n",
        "Now, we have done data preprocessing, let's build a CNN model."
      ]
    },
    {
      "cell_type": "code",
      "execution_count": 13,
      "metadata": {
        "id": "eaGr-3Noe2TF"
      },
      "outputs": [],
      "source": [
        "#Fixing the seed for random number generators\n",
        "np.random.seed(42)\n",
        "import random\n",
        "random.seed(42)\n",
        "tf.random.set_seed(42)"
      ]
    },
    {
      "cell_type": "markdown",
      "metadata": {
        "id": "UJDUoaEj1d6e"
      },
      "source": [
        "### **Model Architecture**\n",
        "- Write a function that returns a sequential model with the following architecture\n",
        " - First Convolutional layer with **16 filters and kernel size of 3x3**. Use the **'same' padding** and provide an **apt input shape**\n",
        " - Add a **LeakyRelu layer** with the **slope equal to 0.1**\n",
        " - Second Convolutional layer with **32 filters and kernel size of 3x3 with 'same' padding**\n",
        " - Another **LeakyRelu** with the **slope equal to 0.1**\n",
        " - A **max-pooling layer** with a **pool size of 2x2**\n",
        " - **Flatten** the output from the previous layer\n",
        " - Add a **dense layer with 32 nodes**\n",
        " - Add a **LeakyRelu layer with slope equal to 0.1**\n",
        " - Add the final **output layer with nodes equal to the number of classes** and **softmax activation**\n",
        " - Compile the model with the **categorical_crossentropy loss, adam optimizers (learning_rate = 0.001), and accuracy metric**. Do not fit the model here, just return the compiled model\n",
        "- Call the function and store the model in a new variable\n",
        "- Print the summary of the model.\n",
        "- Fit the model on the train data with a **validation split of 0.2, batch size = 32, verbose = 1, and 20 epochs**. Store the model building history to use later for visualization."
      ]
    },
    {
      "cell_type": "markdown",
      "metadata": {
        "id": "Uw8pZcNwe2TG"
      },
      "source": [
        "#### **Question 3: Build and train a CNN model as per the above mentioned architecture (10 Marks)**"
      ]
    },
    {
      "cell_type": "code",
      "source": [
        "np.shape(X_test)"
      ],
      "metadata": {
        "colab": {
          "base_uri": "https://localhost:8080/"
        },
        "id": "ujL7pVEc3E-t",
        "outputId": "f17817c4-5bcb-4062-a42b-2709ef7e2f10"
      },
      "execution_count": 73,
      "outputs": [
        {
          "output_type": "execute_result",
          "data": {
            "text/plain": [
              "(18000, 32, 32, 1)"
            ]
          },
          "metadata": {},
          "execution_count": 73
        }
      ]
    },
    {
      "cell_type": "code",
      "source": [
        "#reshaping the data to fit the CNN model\n",
        "x_train = X_train.reshape(42000,32,32,1)\n",
        "x_test = X_test.reshape(18000,32,32,1)"
      ],
      "metadata": {
        "id": "JaM8qNO-y7XS"
      },
      "execution_count": 72,
      "outputs": []
    },
    {
      "cell_type": "code",
      "execution_count": 74,
      "metadata": {
        "id": "Cmi81Gr5sqW-"
      },
      "outputs": [],
      "source": [
        "#Importing losses and optimizers modules\n",
        "from tensorflow.keras import losses\n",
        "from tensorflow.keras import optimizers\n",
        "\n",
        "#Define the function\n",
        "def cnn_model_1():\n",
        "    model = Sequential() \n",
        "    #Add layers as per the architecture mentioned above in the same sequence\n",
        "    #first layer with 16 filters, kernel size 3x3, same padding\n",
        "    model.add(Conv2D(filters=16, kernel_size=(3, 3), padding='same', input_shape=(32, 32, 1)))\n",
        "    #Leakyrelu leayer, 0.1 slope\n",
        "    model.add(LeakyReLU(0.1))\n",
        "    #2nd layer, 32 filters, 3x3 kernel size, same padding\n",
        "    model.add(Conv2D(filters=32, kernel_size=(3, 3), padding='same', input_shape=(32, 32, 1)))\n",
        "    #another Leakyrelu layer\n",
        "    model.add(LeakyReLU(0.1))\n",
        "    #max-poolinglayer with a pool size 2x2\n",
        "    model.add(MaxPool2D(pool_size=(2,2)))\n",
        "    #flatten output\n",
        "    model.add(Flatten())\n",
        "    #dense layer with 32 nodes\n",
        "    model.add(Dense(32))\n",
        "    model.add(LeakyReLU(0.1))\n",
        "    #final output layer\n",
        "    model.add(Dense(10, activation='softmax'))\n",
        "\n",
        "    #declare adam optimizer with learning rate of 0.001 \n",
        "    adam = optimizers.Adam(learning_rate=0.01)\n",
        "    \n",
        "    #compile the model\n",
        "    model.compile(loss='categorical_crossentropy',optimizer=adam, metrics=['accuracy'])\n",
        "    return model"
      ]
    },
    {
      "cell_type": "code",
      "execution_count": 75,
      "metadata": {
        "id": "bGCUI_xsImnH",
        "colab": {
          "base_uri": "https://localhost:8080/"
        },
        "outputId": "4e7bd071-3650-4d83-cbdf-225fb2bfa735"
      },
      "outputs": [
        {
          "output_type": "execute_result",
          "data": {
            "text/plain": [
              "<keras.engine.sequential.Sequential at 0x7f57b0e3be10>"
            ]
          },
          "metadata": {},
          "execution_count": 75
        }
      ],
      "source": [
        "#Build the model\n",
        "model_1 = cnn_model_1()\n",
        "\n",
        "#adding first conv layer with 16 filters, Kernel size 3x3\n",
        "model_1"
      ]
    },
    {
      "cell_type": "code",
      "execution_count": 76,
      "metadata": {
        "id": "ckJsLdmdQadZ",
        "colab": {
          "base_uri": "https://localhost:8080/"
        },
        "outputId": "b94d6e57-9239-4dd0-9720-4e2b718ce49e"
      },
      "outputs": [
        {
          "output_type": "stream",
          "name": "stdout",
          "text": [
            "Model: \"sequential_9\"\n",
            "_________________________________________________________________\n",
            " Layer (type)                Output Shape              Param #   \n",
            "=================================================================\n",
            " conv2d_18 (Conv2D)          (None, 32, 32, 16)        160       \n",
            "                                                                 \n",
            " leaky_re_lu_25 (LeakyReLU)  (None, 32, 32, 16)        0         \n",
            "                                                                 \n",
            " conv2d_19 (Conv2D)          (None, 32, 32, 32)        4640      \n",
            "                                                                 \n",
            " leaky_re_lu_26 (LeakyReLU)  (None, 32, 32, 32)        0         \n",
            "                                                                 \n",
            " max_pooling2d_7 (MaxPooling  (None, 16, 16, 32)       0         \n",
            " 2D)                                                             \n",
            "                                                                 \n",
            " flatten_7 (Flatten)         (None, 8192)              0         \n",
            "                                                                 \n",
            " dense_14 (Dense)            (None, 32)                262176    \n",
            "                                                                 \n",
            " leaky_re_lu_27 (LeakyReLU)  (None, 32)                0         \n",
            "                                                                 \n",
            " dense_15 (Dense)            (None, 10)                330       \n",
            "                                                                 \n",
            "=================================================================\n",
            "Total params: 267,306\n",
            "Trainable params: 267,306\n",
            "Non-trainable params: 0\n",
            "_________________________________________________________________\n"
          ]
        }
      ],
      "source": [
        "#Print the model summary\n",
        "model_1.summary()"
      ]
    },
    {
      "cell_type": "markdown",
      "source": [
        "The model structure has:\n",
        "\n",
        "- 2 convolution layers with 16 filters each of size (3,3) and 'same' padding i.e. the output would be of same size as the input except the depth which would be equal to 16.\n",
        "- Max pooling of size (2,2) is applied on the output of the second layer.\n",
        "- The output of max pooled images is flattened using the Flatten layer.\n",
        "- A Leaky ReLU layer with a slope of 0.1 in between the convolutional layers is used for best train accuracy & validation accuracy. \n",
        "- A Dense layer is used to create a fully connected layer with 64 nodes has been applied to the output of the Flatten layer\n",
        "- Finally, the softmax layer with 10 nodes to get the probabilities of each observation belonging to each class.\n",
        "\n",
        "**Key Notes:** Each node in the batch normalization layer has two non-trainable parameters - mean and variance. Here, we have 2 batch normalization layers with 64 and 16 nodes. So, the model has (64+16)*2 = 160 non-trainable parameters."
      ],
      "metadata": {
        "id": "ZfU3byM2wfjH"
      }
    },
    {
      "cell_type": "code",
      "source": [
        "np.shape(X_train)"
      ],
      "metadata": {
        "colab": {
          "base_uri": "https://localhost:8080/"
        },
        "id": "gIS-N-cWvlO2",
        "outputId": "cfd040d3-0e59-450f-f9fb-fea713608f8e"
      },
      "execution_count": 77,
      "outputs": [
        {
          "output_type": "execute_result",
          "data": {
            "text/plain": [
              "(42000, 32, 32, 1)"
            ]
          },
          "metadata": {},
          "execution_count": 77
        }
      ]
    },
    {
      "cell_type": "code",
      "execution_count": 78,
      "metadata": {
        "id": "3Fy3Dif_zcCk",
        "colab": {
          "base_uri": "https://localhost:8080/"
        },
        "outputId": "572870f8-535f-4d9b-b8ac-ad9b31b87edb"
      },
      "outputs": [
        {
          "output_type": "stream",
          "name": "stdout",
          "text": [
            "Epoch 1/20\n",
            "1313/1313 [==============================] - 26s 11ms/step - loss: 2.3326 - accuracy: 0.1020 - val_loss: 2.3331 - val_accuracy: 0.1213\n",
            "Epoch 2/20\n",
            "1313/1313 [==============================] - 15s 11ms/step - loss: 3.7688 - accuracy: 0.1179 - val_loss: 2.2404 - val_accuracy: 0.2259\n",
            "Epoch 3/20\n",
            "1313/1313 [==============================] - 15s 11ms/step - loss: 1.9957 - accuracy: 0.2945 - val_loss: 1.6992 - val_accuracy: 0.4197\n",
            "Epoch 4/20\n",
            "1313/1313 [==============================] - 18s 14ms/step - loss: 1.4178 - accuracy: 0.5422 - val_loss: 1.1539 - val_accuracy: 0.6497\n",
            "Epoch 5/20\n",
            "1313/1313 [==============================] - 15s 12ms/step - loss: 0.9980 - accuracy: 0.6942 - val_loss: 0.9015 - val_accuracy: 0.7373\n",
            "Epoch 6/20\n",
            "1313/1313 [==============================] - 16s 12ms/step - loss: 0.7461 - accuracy: 0.7787 - val_loss: 0.6878 - val_accuracy: 0.8036\n",
            "Epoch 7/20\n",
            "1313/1313 [==============================] - 17s 13ms/step - loss: 0.7445 - accuracy: 0.7842 - val_loss: 0.7048 - val_accuracy: 0.7945\n",
            "Epoch 8/20\n",
            "1313/1313 [==============================] - 18s 14ms/step - loss: 0.6494 - accuracy: 0.8098 - val_loss: 0.6977 - val_accuracy: 0.7988\n",
            "Epoch 9/20\n",
            "1313/1313 [==============================] - 15s 11ms/step - loss: 0.6217 - accuracy: 0.8165 - val_loss: 0.6792 - val_accuracy: 0.8135\n",
            "Epoch 10/20\n",
            "1313/1313 [==============================] - 15s 11ms/step - loss: 0.6058 - accuracy: 0.8181 - val_loss: 1.1150 - val_accuracy: 0.7418\n",
            "Epoch 11/20\n",
            "1313/1313 [==============================] - 17s 13ms/step - loss: 1.2105 - accuracy: 0.7806 - val_loss: 0.6600 - val_accuracy: 0.8265\n",
            "Epoch 12/20\n",
            "1313/1313 [==============================] - 17s 13ms/step - loss: 0.5429 - accuracy: 0.8424 - val_loss: 0.7278 - val_accuracy: 0.8038\n",
            "Epoch 13/20\n",
            "1313/1313 [==============================] - 15s 11ms/step - loss: 0.5368 - accuracy: 0.8410 - val_loss: 0.7077 - val_accuracy: 0.8071\n",
            "Epoch 14/20\n",
            "1313/1313 [==============================] - 15s 12ms/step - loss: 0.5724 - accuracy: 0.8333 - val_loss: 0.6980 - val_accuracy: 0.8106\n",
            "Epoch 15/20\n",
            "1313/1313 [==============================] - 16s 12ms/step - loss: 0.5957 - accuracy: 0.8288 - val_loss: 1.1380 - val_accuracy: 0.7261\n",
            "Epoch 16/20\n",
            "1313/1313 [==============================] - 18s 13ms/step - loss: 0.5590 - accuracy: 0.8366 - val_loss: 0.6997 - val_accuracy: 0.8165\n",
            "Epoch 17/20\n",
            "1313/1313 [==============================] - 15s 11ms/step - loss: 0.5409 - accuracy: 0.8400 - val_loss: 4.7792 - val_accuracy: 0.3704\n",
            "Epoch 18/20\n",
            "1313/1313 [==============================] - 15s 12ms/step - loss: 3.0922 - accuracy: 0.6827 - val_loss: 0.7524 - val_accuracy: 0.8057\n",
            "Epoch 19/20\n",
            "1313/1313 [==============================] - 16s 12ms/step - loss: 0.5604 - accuracy: 0.8375 - val_loss: 0.6801 - val_accuracy: 0.8261\n",
            "Epoch 20/20\n",
            "1313/1313 [==============================] - 15s 11ms/step - loss: 0.5355 - accuracy: 0.8424 - val_loss: 0.7369 - val_accuracy: 0.8147\n"
          ]
        }
      ],
      "source": [
        "# Fit the model\n",
        "history_model_1 = model_1.fit(X_train, y_train, validation_data=(X_test, y_test), validation_split=0.2, verbose = 1, batch_size=32, epochs = 20)"
      ]
    },
    {
      "cell_type": "markdown",
      "metadata": {
        "id": "tKOckG-KPyLg"
      },
      "source": [
        "### **Plotting the validation and training accuracies**"
      ]
    },
    {
      "cell_type": "markdown",
      "metadata": {
        "id": "sVyQ9Gpge2TI"
      },
      "source": [
        "#### **Question 4: Write your observations on the below plot (2 Marks)**"
      ]
    },
    {
      "cell_type": "code",
      "execution_count": 79,
      "metadata": {
        "colab": {
          "base_uri": "https://localhost:8080/",
          "height": 497
        },
        "id": "lt77zgGMP4yw",
        "outputId": "d63b7e35-77c0-4e0b-e3a3-5708265e76a9"
      },
      "outputs": [
        {
          "output_type": "display_data",
          "data": {
            "image/png": "[encoded data removed]",
            "text/plain": [
              "<Figure size 576x576 with 1 Axes>"
            ]
          },
          "metadata": {
            "needs_background": "light"
          }
        }
      ],
      "source": [
        "# plotting the accuracies\n",
        "\n",
        "dict_hist = history_model_1.history\n",
        "list_ep = [i for i in range(1,21)]\n",
        "\n",
        "plt.figure(figsize = (8,8))\n",
        "plt.plot(list_ep,dict_hist['accuracy'],ls = '--', label = 'accuracy')\n",
        "plt.plot(list_ep,dict_hist['val_accuracy'],ls = '--', label = 'val_accuracy')\n",
        "plt.ylabel('Accuracy')\n",
        "plt.xlabel('Epochs')\n",
        "plt.legend()\n",
        "plt.show()"
      ]
    },
    {
      "cell_type": "markdown",
      "metadata": {
        "id": "pGBbQpLONX7k"
      },
      "source": [
        "**Observations:**\n",
        "- The more epochs(hyperparameters) established in the model the better the accuracy of the model. \n",
        "-However, there was a weird blip at around 17.5 for the validation data that then caused the overall accuracy to also take a dip, but then shot back up. Could be potentially overfitting the dataset, it could be useful to cut down on the number of Epochs (to 15) to see how it runs after that. "
      ]
    },
    {
      "cell_type": "markdown",
      "metadata": {
        "id": "z0qgLMBZm5-K"
      },
      "source": [
        "Let's build another model and see if we can get a better model with generalized performance.\n",
        "\n",
        "First, we need to clear the previous model's history from the keras backend. Also, let's fix the seed again after clearing the backend."
      ]
    },
    {
      "cell_type": "code",
      "execution_count": 80,
      "metadata": {
        "id": "y98BpLxsok_H"
      },
      "outputs": [],
      "source": [
        "#Clearing backend\n",
        "from tensorflow.keras import backend\n",
        "backend.clear_session()"
      ]
    },
    {
      "cell_type": "code",
      "execution_count": 81,
      "metadata": {
        "id": "HbKi93HTolGW"
      },
      "outputs": [],
      "source": [
        "#Fixing the seed for random number generators\n",
        "np.random.seed(42)\n",
        "import random\n",
        "random.seed(42)\n",
        "tf.random.set_seed(42)"
      ]
    },
    {
      "cell_type": "markdown",
      "metadata": {
        "id": "lT6o3TIKuCtk"
      },
      "source": [
        "### **Second Model Architecture**\n",
        "- Write a function that returns a sequential model with the following architecture\n",
        " - First Convolutional layer with **16 filters and kernel size of 3x3**. Use the **'same' padding** and provide an **apt input shape**\n",
        " - Add a **LeakyRelu layer** with the **slope equal to 0.1**\n",
        " - Second Convolutional layer with **32 filters and kernel size of 3x3 with 'same' padding**\n",
        " - Add **LeakyRelu** with the **slope equal to 0.1**\n",
        " - Add a **max-pooling layer** with a **pool size of 2x2**\n",
        " - Add a **BatchNormalization layer**\n",
        " - Third Convolutional layer with **32 filters and kernel size of 3x3 with 'same' padding**\n",
        " - Add a **LeakyRelu layer with slope equal to 0.1**\n",
        " - Fourth Convolutional layer **64 filters and kernel size of 3x3 with 'same' padding** \n",
        " - Add a **LeakyRelu layer with slope equal to 0.1**\n",
        " - Add a **max-pooling layer** with a **pool size of 2x2**\n",
        " - Add a **BatchNormalization layer**\n",
        " - **Flatten** the output from the previous layer\n",
        " - Add a **dense layer with 32 nodes**\n",
        " - Add a **LeakyRelu layer with slope equal to 0.1**\n",
        " - Add a **dropout layer with rate equal to 0.5**\n",
        " - Add the final **output layer with nodes equal to the number of classes** and **softmax activation**\n",
        " - Compile the model with the **categorical_crossentropy loss, adam optimizers (learning_rate = 0.001), and accuracy metric**. Do not fit the model here, just return the compiled model\n",
        "- Call the function and store the model in a new variable\n",
        "- Print the summary of the model.\n",
        "- Fit the model on the train data with a **validation split of 0.2, batch size = 128, verbose = 1, and 30 epochs**. Store the model building history to use later for visualization."
      ]
    },
    {
      "cell_type": "markdown",
      "metadata": {
        "id": "Sr-bwBT2e2TJ"
      },
      "source": [
        "#### **Question 5: Build and train the second CNN model as per the above mentioned architecture (10 Marks)**"
      ]
    },
    {
      "cell_type": "code",
      "execution_count": 100,
      "metadata": {
        "id": "EEPYLFIPnSDP"
      },
      "outputs": [],
      "source": [
        "#Define the function\n",
        "def cnn_model_2():\n",
        "    #input_shape=X_train.shape[1:]\n",
        "    model = Sequential() \n",
        "    #Add layers as per the architecture mentioned above in the same sequence\n",
        "    #FIRST layer with 16 filters, kernel size 3x3, same padding\n",
        "    model.add(Conv2D(filters=16, kernel_size=(3, 3), padding='same', input_shape=(32, 32, 1)))\n",
        "    #Leakyrelu leayer, 0.1 slope\n",
        "    model.add(LeakyReLU(0.1))\n",
        "    #2ND layer, 32 filters, 3x3 kernel size, same padding\n",
        "    model.add(Conv2D(filters=32, kernel_size=(3, 3), padding='same', input_shape=(32, 32, 1)))\n",
        "    #another Leakyrelu layer\n",
        "    model.add(LeakyReLU(0.1))\n",
        "    #max-poolinglayer with a pool size 2x2\n",
        "    model.add(MaxPool2D(pool_size=(2,2)))\n",
        "    #batch normalization\n",
        "    model.add(BatchNormalization())\n",
        "    #THIRD layer\n",
        "    model.add(Conv2D(filters=32, kernel_size=(3, 3), padding='same', input_shape=(32, 32, 1)))\n",
        "    #another Leakyrelu layer\n",
        "    model.add(LeakyReLU(0.1))\n",
        "    #FOURTH layer\n",
        "    model.add(Conv2D(filters=64, kernel_size=(3, 3), padding='same', input_shape=(64, 64, 1)))\n",
        "    #another Leakyrelu layer\n",
        "    model.add(LeakyReLU(0.1))\n",
        "    #max-poolinglayer with a pool size 2x2\n",
        "    model.add(MaxPool2D(pool_size=(2,2)))\n",
        "    #batch normalization\n",
        "    model.add(BatchNormalization())\n",
        "    #flatten output\n",
        "    model.add(Flatten())\n",
        "    #dense layer with 32 nodes\n",
        "    model.add(Dense(32))\n",
        "    #Leaky ReLU\n",
        "    model.add(LeakyReLU(0.1))\n",
        "    #droput\n",
        "    model.add(Dropout(0.5))\n",
        "    #final output layer\n",
        "    model.add(Dense(10, activation='softmax'))\n",
        "\n",
        "    #declare adam optimizer with learning rate of 0.001 \n",
        "    adam = optimizers.Adam(learning_rate=0.01)\n",
        "    \n",
        "    #compile the model\n",
        "    model.compile(loss='categorical_crossentropy',optimizer=adam, metrics=['accuracy'])\n",
        "    return model"
      ]
    },
    {
      "cell_type": "code",
      "execution_count": 101,
      "metadata": {
        "id": "AKjDY4plnSFl"
      },
      "outputs": [],
      "source": [
        "# Build the model\n",
        "model_2 = cnn_model_2()"
      ]
    },
    {
      "cell_type": "code",
      "execution_count": 102,
      "metadata": {
        "id": "gz_6SVrU2swZ",
        "colab": {
          "base_uri": "https://localhost:8080/"
        },
        "outputId": "03a9a4c9-a1b4-4236-868f-49770dd5ed4b"
      },
      "outputs": [
        {
          "output_type": "stream",
          "name": "stdout",
          "text": [
            "Model: \"sequential_9\"\n",
            "_________________________________________________________________\n",
            " Layer (type)                Output Shape              Param #   \n",
            "=================================================================\n",
            " conv2d_18 (Conv2D)          (None, 32, 32, 16)        160       \n",
            "                                                                 \n",
            " leaky_re_lu_18 (LeakyReLU)  (None, 32, 32, 16)        0         \n",
            "                                                                 \n",
            " conv2d_19 (Conv2D)          (None, 32, 32, 32)        4640      \n",
            "                                                                 \n",
            " leaky_re_lu_19 (LeakyReLU)  (None, 32, 32, 32)        0         \n",
            "                                                                 \n",
            " max_pooling2d_9 (MaxPooling  (None, 16, 16, 32)       0         \n",
            " 2D)                                                             \n",
            "                                                                 \n",
            " batch_normalization_9 (Batc  (None, 16, 16, 32)       128       \n",
            " hNormalization)                                                 \n",
            "                                                                 \n",
            " conv2d_20 (Conv2D)          (None, 16, 16, 32)        9248      \n",
            "                                                                 \n",
            " leaky_re_lu_20 (LeakyReLU)  (None, 16, 16, 32)        0         \n",
            "                                                                 \n",
            " conv2d_21 (Conv2D)          (None, 16, 16, 64)        18496     \n",
            "                                                                 \n",
            " leaky_re_lu_21 (LeakyReLU)  (None, 16, 16, 64)        0         \n",
            "                                                                 \n",
            " max_pooling2d_10 (MaxPoolin  (None, 8, 8, 64)         0         \n",
            " g2D)                                                            \n",
            "                                                                 \n",
            " batch_normalization_10 (Bat  (None, 8, 8, 64)         256       \n",
            " chNormalization)                                                \n",
            "                                                                 \n",
            " flatten (Flatten)           (None, 4096)              0         \n",
            "                                                                 \n",
            " dense (Dense)               (None, 32)                131104    \n",
            "                                                                 \n",
            " leaky_re_lu_22 (LeakyReLU)  (None, 32)                0         \n",
            "                                                                 \n",
            " dropout (Dropout)           (None, 32)                0         \n",
            "                                                                 \n",
            " dense_1 (Dense)             (None, 10)                330       \n",
            "                                                                 \n",
            "=================================================================\n",
            "Total params: 164,362\n",
            "Trainable params: 164,170\n",
            "Non-trainable params: 192\n",
            "_________________________________________________________________\n"
          ]
        }
      ],
      "source": [
        "#Print the summary\n",
        "model_2.summary()"
      ]
    },
    {
      "cell_type": "code",
      "execution_count": 103,
      "metadata": {
        "id": "IQ0Sc4R-y-uu",
        "colab": {
          "base_uri": "https://localhost:8080/"
        },
        "outputId": "2f21bcdb-cd45-4bfb-f443-42d105eba4df"
      },
      "outputs": [
        {
          "output_type": "stream",
          "name": "stdout",
          "text": [
            "Epoch 1/30\n",
            "263/263 [==============================] - 11s 35ms/step - loss: 1.9813 - accuracy: 0.3806 - val_loss: 1.1206 - val_accuracy: 0.6621\n",
            "Epoch 2/30\n",
            "263/263 [==============================] - 7s 28ms/step - loss: 0.8197 - accuracy: 0.7433 - val_loss: 0.6419 - val_accuracy: 0.7970\n",
            "Epoch 3/30\n",
            "263/263 [==============================] - 9s 33ms/step - loss: 0.6525 - accuracy: 0.7952 - val_loss: 0.4948 - val_accuracy: 0.8568\n",
            "Epoch 4/30\n",
            "263/263 [==============================] - 11s 42ms/step - loss: 0.5602 - accuracy: 0.8277 - val_loss: 0.5638 - val_accuracy: 0.8360\n",
            "Epoch 5/30\n",
            "263/263 [==============================] - 10s 40ms/step - loss: 0.5161 - accuracy: 0.8427 - val_loss: 0.4227 - val_accuracy: 0.8788\n",
            "Epoch 6/30\n",
            "263/263 [==============================] - 7s 27ms/step - loss: 0.4854 - accuracy: 0.8532 - val_loss: 0.5219 - val_accuracy: 0.8452\n",
            "Epoch 7/30\n",
            "263/263 [==============================] - 10s 36ms/step - loss: 0.4626 - accuracy: 0.8571 - val_loss: 0.5143 - val_accuracy: 0.8652\n",
            "Epoch 8/30\n",
            "263/263 [==============================] - 8s 32ms/step - loss: 0.4362 - accuracy: 0.8665 - val_loss: 0.3792 - val_accuracy: 0.8965\n",
            "Epoch 9/30\n",
            "263/263 [==============================] - 9s 35ms/step - loss: 0.4189 - accuracy: 0.8707 - val_loss: 0.4217 - val_accuracy: 0.8796\n",
            "Epoch 10/30\n",
            "263/263 [==============================] - 7s 27ms/step - loss: 0.4135 - accuracy: 0.8742 - val_loss: 0.3992 - val_accuracy: 0.8860\n",
            "Epoch 11/30\n",
            "263/263 [==============================] - 9s 32ms/step - loss: 0.3950 - accuracy: 0.8798 - val_loss: 0.4789 - val_accuracy: 0.8696\n",
            "Epoch 12/30\n",
            "263/263 [==============================] - 8s 30ms/step - loss: 0.3872 - accuracy: 0.8792 - val_loss: 0.4840 - val_accuracy: 0.8710\n",
            "Epoch 13/30\n",
            "263/263 [==============================] - 7s 27ms/step - loss: 0.3788 - accuracy: 0.8827 - val_loss: 0.4504 - val_accuracy: 0.8721\n",
            "Epoch 14/30\n",
            "263/263 [==============================] - 8s 32ms/step - loss: 0.3621 - accuracy: 0.8885 - val_loss: 0.3725 - val_accuracy: 0.9006\n",
            "Epoch 15/30\n",
            "263/263 [==============================] - 9s 34ms/step - loss: 0.3599 - accuracy: 0.8890 - val_loss: 0.4889 - val_accuracy: 0.8633\n",
            "Epoch 16/30\n",
            "263/263 [==============================] - 8s 31ms/step - loss: 0.3562 - accuracy: 0.8886 - val_loss: 0.4513 - val_accuracy: 0.8707\n",
            "Epoch 17/30\n",
            "263/263 [==============================] - 7s 25ms/step - loss: 0.3398 - accuracy: 0.8933 - val_loss: 0.4341 - val_accuracy: 0.8802\n",
            "Epoch 18/30\n",
            "263/263 [==============================] - 7s 27ms/step - loss: 0.3357 - accuracy: 0.8935 - val_loss: 0.4190 - val_accuracy: 0.8914\n",
            "Epoch 19/30\n",
            "263/263 [==============================] - 10s 39ms/step - loss: 0.3235 - accuracy: 0.8984 - val_loss: 0.4194 - val_accuracy: 0.8952\n",
            "Epoch 20/30\n",
            "263/263 [==============================] - 8s 31ms/step - loss: 0.3207 - accuracy: 0.8984 - val_loss: 0.5350 - val_accuracy: 0.8682\n",
            "Epoch 21/30\n",
            "263/263 [==============================] - 9s 33ms/step - loss: 0.3121 - accuracy: 0.9007 - val_loss: 0.3875 - val_accuracy: 0.8994\n",
            "Epoch 22/30\n",
            "263/263 [==============================] - 7s 27ms/step - loss: 0.3034 - accuracy: 0.9034 - val_loss: 0.4696 - val_accuracy: 0.8851\n",
            "Epoch 23/30\n",
            "263/263 [==============================] - 9s 33ms/step - loss: 0.3102 - accuracy: 0.9019 - val_loss: 0.4418 - val_accuracy: 0.8785\n",
            "Epoch 24/30\n",
            "263/263 [==============================] - 7s 27ms/step - loss: 0.2911 - accuracy: 0.9062 - val_loss: 0.4114 - val_accuracy: 0.8827\n",
            "Epoch 25/30\n",
            "263/263 [==============================] - 8s 29ms/step - loss: 0.2867 - accuracy: 0.9094 - val_loss: 0.4320 - val_accuracy: 0.8973\n",
            "Epoch 26/30\n",
            "263/263 [==============================] - 8s 29ms/step - loss: 0.2863 - accuracy: 0.9110 - val_loss: 0.4248 - val_accuracy: 0.8974\n",
            "Epoch 27/30\n",
            "263/263 [==============================] - 9s 33ms/step - loss: 0.2769 - accuracy: 0.9131 - val_loss: 0.4279 - val_accuracy: 0.8983\n",
            "Epoch 28/30\n",
            "263/263 [==============================] - 8s 32ms/step - loss: 0.2692 - accuracy: 0.9135 - val_loss: 0.4778 - val_accuracy: 0.9044\n",
            "Epoch 29/30\n",
            "263/263 [==============================] - 8s 29ms/step - loss: 0.2805 - accuracy: 0.9118 - val_loss: 0.5112 - val_accuracy: 0.8989\n",
            "Epoch 30/30\n",
            "263/263 [==============================] - 9s 33ms/step - loss: 0.2738 - accuracy: 0.9112 - val_loss: 0.4557 - val_accuracy: 0.9048\n"
          ]
        }
      ],
      "source": [
        "# Fit the model\n",
        "history_model_2 = model_2.fit(X_train, y_train, validation_data=(X_test, y_test),validation_split=0.2, verbose = 1, batch_size=128, epochs = 30)"
      ]
    },
    {
      "cell_type": "markdown",
      "metadata": {
        "id": "0_f1EXmTe2TK"
      },
      "source": [
        "### **Plotting the validation and training accuracies**"
      ]
    },
    {
      "cell_type": "markdown",
      "metadata": {
        "id": "aC5UbsqXe2TK"
      },
      "source": [
        "#### **Question 6: Write your observations on the below plot (2 Marks)**"
      ]
    },
    {
      "cell_type": "code",
      "execution_count": 104,
      "metadata": {
        "colab": {
          "base_uri": "https://localhost:8080/",
          "height": 497
        },
        "id": "01ig6BrF1KVy",
        "outputId": "26c1f695-2c2f-40ab-8ba1-f87848a5304d"
      },
      "outputs": [
        {
          "output_type": "display_data",
          "data": {
            "image/png": "[encoded data removed]",
            "text/plain": [
              "<Figure size 576x576 with 1 Axes>"
            ]
          },
          "metadata": {
            "needs_background": "light"
          }
        }
      ],
      "source": [
        "# plotting the accuracies\n",
        "\n",
        "dict_hist = history_model_2.history\n",
        "list_ep = [i for i in range(1,31)]\n",
        "\n",
        "plt.figure(figsize = (8,8))\n",
        "plt.plot(list_ep,dict_hist['accuracy'],ls = '--', label = 'accuracy')\n",
        "plt.plot(list_ep,dict_hist['val_accuracy'],ls = '--', label = 'val_accuracy')\n",
        "plt.ylabel('Accuracy')\n",
        "plt.xlabel('Epochs')\n",
        "plt.legend()\n",
        "plt.show()"
      ]
    },
    {
      "cell_type": "markdown",
      "metadata": {
        "id": "VPW1LlD61RDn"
      },
      "source": [
        "**Observations:**\n",
        "- Using the batch normalization and dropout class helped to normalize each batch while training the model i.e. centering and scaling each batch separately. It helped reduce the training process time and reduced overfitting so that the model can generalize appropriately.\n",
        "- The validation accuracy has improved as compared to the previous model.\n",
        "- We have been able to achieve the best validation accuracy so far without actually training any of the convolutional layers. There are other pre-trained models as well which can be tried and/or tuned to get better performance."
      ]
    },
    {
      "cell_type": "markdown",
      "metadata": {
        "id": "8kuXx9Bvu00f"
      },
      "source": [
        "## **Predictions on the test data**\n",
        "\n",
        "- Make predictions on the test set using the second model\n",
        "- Print the obtained results using the classification report and the confusion matrix\n",
        "- Final observations from the obtained results"
      ]
    },
    {
      "cell_type": "markdown",
      "metadata": {
        "id": "yfZwC9OUe2TL"
      },
      "source": [
        "#### **Question 7: Make predictions on the test data using the second model (1 Mark)**"
      ]
    },
    {
      "cell_type": "code",
      "execution_count": 105,
      "metadata": {
        "id": "xbWMEtTj5Ad0"
      },
      "outputs": [],
      "source": [
        "#Make prediction on the test data using model_2 \n",
        "test_pred= model_2.predict(X_test)\n",
        "\n",
        "#Converting probabilities to class labels\n",
        "test_pred= np.argmax(test_pred, axis=1)"
      ]
    },
    {
      "cell_type": "markdown",
      "metadata": {
        "id": "i3li8Ib08yts"
      },
      "source": [
        "**Note:** Earlier, we noticed that each entry of the test data is a one-hot encoded vector but to print the classification report and confusion matrix, we must convert each entry of y_test to a single label."
      ]
    },
    {
      "cell_type": "code",
      "execution_count": 106,
      "metadata": {
        "id": "NByu7uAQ8x9P"
      },
      "outputs": [],
      "source": [
        "#Converting each entry to single label from one-hot encoded vector\n",
        "y_test = np.argmax(y_test, axis=-1)"
      ]
    },
    {
      "cell_type": "markdown",
      "metadata": {
        "id": "yHDUEma0e2TM"
      },
      "source": [
        "#### **Question 8: Write your final observations on the performance of the model on the test data (2 Marks)**"
      ]
    },
    {
      "cell_type": "code",
      "execution_count": 107,
      "metadata": {
        "colab": {
          "base_uri": "https://localhost:8080/",
          "height": 637
        },
        "id": "xRddeJ-3EHT1",
        "outputId": "2d65296e-9702-44bb-c4f7-88859c6c2353"
      },
      "outputs": [
        {
          "output_type": "stream",
          "name": "stdout",
          "text": [
            "              precision    recall  f1-score   support\n",
            "\n",
            "           0       0.93      0.93      0.93      1814\n",
            "           1       0.95      0.85      0.89      1828\n",
            "           2       0.92      0.92      0.92      1803\n",
            "           3       0.89      0.87      0.88      1719\n",
            "           4       0.90      0.94      0.92      1812\n",
            "           5       0.89      0.90      0.90      1768\n",
            "           6       0.89      0.90      0.89      1832\n",
            "           7       0.91      0.93      0.92      1808\n",
            "           8       0.86      0.91      0.89      1812\n",
            "           9       0.92      0.90      0.91      1804\n",
            "\n",
            "    accuracy                           0.90     18000\n",
            "   macro avg       0.90      0.90      0.90     18000\n",
            "weighted avg       0.90      0.90      0.90     18000\n",
            "\n"
          ]
        },
        {
          "output_type": "display_data",
          "data": {
            "image/png": "[encoded data removed]",
            "text/plain": [
              "<Figure size 576x360 with 2 Axes>"
            ]
          },
          "metadata": {
            "needs_background": "light"
          }
        }
      ],
      "source": [
        "#importing required functions\n",
        "from sklearn.metrics import classification_report\n",
        "from sklearn.metrics import confusion_matrix\n",
        "\n",
        "#Printing the classification report\n",
        "print(classification_report(y_test, test_pred))\n",
        "\n",
        "#Plotting the heatmap using confusion matrix\n",
        "cm = confusion_matrix(y_test, test_pred)\n",
        "plt.figure(figsize=(8,5))\n",
        "sns.heatmap(cm, annot=True,  fmt='.0f')\n",
        "plt.ylabel('Actual')\n",
        "plt.xlabel('Predicted')\n",
        "plt.show()"
      ]
    },
    {
      "cell_type": "markdown",
      "metadata": {
        "id": "DjErl4GA2u9s"
      },
      "source": [
        "#### **Observations:**\n",
        "- The model is giving about 90% accuracy on the test data which is comparable to the accuracy of the validation data. This implies that the model is giving a generalized performance.\n",
        "- The recall has a low range which implies that the model is good at identifying most numbers, for example the highest percentage of predicted value that was inaccurate was 0.03% (5's that actually turned out to be 3s)-this makes sense because I mistake 5's for 3's all the time.\n",
        "- Another common mistake in the model is predicted 6's that are actually 8's, this makes sense because the only thing missing to make a 6 an 8 is a small line on top. The same can be said for predicted 8's that were actualy 3's, lines in the background or some other object could have made the 3 look like an 8. \n",
        "- The model is very good at recognizing the number 4, the model predicted 95% of 4's correctly. \n",
        "- The model does a fantastic job at predicting numbers that are clearly do not resemble other numbers such as 0, however it does have some room to learn when it comes to fine-tuning features that seperate similar numbers.\n"
      ]
    }
  ],
  "metadata": {
    "accelerator": "GPU",
    "colab": {
      "collapsed_sections": [
        "aC5UbsqXe2TK",
        "8kuXx9Bvu00f",
        "yfZwC9OUe2TL",
        "yHDUEma0e2TM"
      ],
      "name": "CNN_Project_Chelsea_Lord.ipynb",
      "provenance": [],
      "include_colab_link": true
    },
    "kernelspec": {
      "display_name": "Python 3",
      "language": "python",
      "name": "python3"
    },
    "language_info": {
      "codemirror_mode": {
        "name": "ipython",
        "version": 3
      },
      "file_extension": ".py",
      "mimetype": "text/x-python",
      "name": "python",
      "nbconvert_exporter": "python",
      "pygments_lexer": "ipython3",
      "version": "3.8.8"
    }
  },
  "nbformat": 4,
  "nbformat_minor": 0
}